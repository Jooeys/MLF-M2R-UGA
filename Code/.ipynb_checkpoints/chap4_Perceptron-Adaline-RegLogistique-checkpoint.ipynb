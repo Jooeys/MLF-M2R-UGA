{
 "cells": [
  {
   "cell_type": "markdown",
   "metadata": {},
   "source": [
    "# Perceptron, Adaline et Regression Logistique"
   ]
  },
  {
   "cell_type": "code",
   "execution_count": 18,
   "metadata": {},
   "outputs": [],
   "source": [
    "from math import exp\n",
    "from operator import add\n",
    "\n",
    "def h(x,w):\n",
    "    \"\"\"\n",
    "    Calcul le produit scalaire entre le vecteur caractéristique d'un exemple, x, et le vecteur poids du modèle, w\n",
    "    \"\"\"\n",
    "    # Le premier élément (indice 0) de la liste w est le biais, w0 \n",
    "    # Le dernier élément de la liste x est la classe de l'exemple\n",
    "    res=w[0]\n",
    "    for i in range(len(x)-1): # la boucle s'arrête à l'avant dernier élément de x inclus \n",
    "        res+=w[i+1]*x[i]\n",
    "    return res\n",
    "\n",
    "\n",
    "def Perceptron(Train,W,eta,d):\n",
    "    err=0\n",
    "    for x in Train:\n",
    "        dp=h(x,W) \n",
    "        if(x[d]*dp<=0):\n",
    "            err+=1\n",
    "            W[0]+=eta*x[d]\n",
    "            for j in range(d):\n",
    "                W[j+1]+=eta*x[d]*x[j]\n",
    "    return W,err\n",
    "\n",
    "def Adaline(Train,W,eta,d):\n",
    "    err=0\n",
    "    for x in Train:\n",
    "        W[0]+=2*eta*(x[d]-h(x,W))\n",
    "        for j in range(d):\n",
    "            W[j+1]+=2*eta*x[j]*(x[d]-h(x,W))\n",
    "        if(x[d]*h(x,W)<=0):\n",
    "            err+=1\n",
    "    return W,err\n",
    "\n",
    "def sigma(z):\n",
    "    \"\"\"\n",
    "    Fonction logisitque\n",
    "    \"\"\"\n",
    "    return (1/(1+exp(-z)))\n",
    "\n",
    "\n",
    "def Logistique(Train,W,eta,d):\n",
    "    err=0\n",
    "    for x in Train:\n",
    "        errlog=(1.0-sigma(x[d]*h(x,W)))\n",
    "        W[0]+=eta*(x[d]*errlog)\n",
    "        for j in range(d):\n",
    "            W[j+1]+=eta*(x[d]*x[j]*errlog)\n",
    "        if(x[d]*h(x,W)<=0):\n",
    "            err+=1\n",
    "    return W,err\n",
    "\n",
    "def ERM(Train,MaxEpoch,eta,mod='p'):\n",
    "    \"\"\"\n",
    "    Algorithme de la minimisation du risque empirique\n",
    "    \"\"\"\n",
    "    # Initialisation des poids à 0\n",
    "    W=[0.0 for i in range(len(Train[0]))]\n",
    "    epoch=0\n",
    "    err=1\n",
    "    d=len(Train[0])-1\n",
    "    E=[]\n",
    "    new=W\n",
    "    while (epoch<MaxEpoch and err!=0):\n",
    "        epoch+=1\n",
    "        if(mod=='p'):\n",
    "            W,err=Perceptron(Train,W,eta,d)\n",
    "        elif(mod=='a'):\n",
    "            W,err=Adaline(Train,W,eta,d)\n",
    "        elif(mod=='r'):\n",
    "            W,err=Logistique(Train,W,eta,d)\n",
    "\n",
    "        erreur=float(err)/float(len(Train))\n",
    "        E.append(erreur)\n",
    "\n",
    "    return W,E"
   ]
  },
  {
   "cell_type": "code",
   "execution_count": 19,
   "metadata": {},
   "outputs": [],
   "source": [
    "def PerfTest(X,W):\n",
    "    \"\"\"\n",
    "    Programme test qui rennvoie le nombre d'erreurs sur une base test\n",
    "    \"\"\"\n",
    "    err=0.0\n",
    "    d=len(X[0])-1\n",
    "    for x in X:\n",
    "        dp=h(x[0:d],W)\n",
    "        if (x[d]*dp<=0.0):\n",
    "            err+=1.0\n",
    "    return err/len(X)"
   ]
  },
  {
   "cell_type": "code",
   "execution_count": 21,
   "metadata": {},
   "outputs": [
    {
     "name": "stdout",
     "output_type": "stream",
     "text": [
      "Erreur Test Perceptron= 0.19148936170212766\n",
      "Erreur Test Adaline= 0.15602836879432624\n",
      "Erreur Test Regression Logistique= 0.14184397163120568\n"
     ]
    },
    {
     "data": {
      "image/png": "[encoded data removed]",
      "text/plain": [
       "<Figure size 432x288 with 1 Axes>"
      ]
     },
     "metadata": {},
     "output_type": "display_data"
    }
   ],
   "source": [
    "import pandas as pd\n",
    "import random\n",
    "import math\n",
    "from sklearn.model_selection import train_test_split\n",
    "import matplotlib.pyplot as plt\n",
    "import os.path\n",
    "from os import path\n",
    "\n",
    "def plotting(X,Y,strtitle,strxlabel,strylabel,lbl):\n",
    "    plt.plot(X, Y, label=lbl)\n",
    "    plt.yscale('linear')\n",
    "    plt.title(strtitle)\n",
    "    plt.xlabel(strxlabel)\n",
    "    plt.ylabel(strylabel)\n",
    "    plt.legend()\n",
    "    plt.grid(True)\n",
    "    \n",
    "def ConstTrainTest(filename):\n",
    "    tag_df=pd.read_table(filename,sep=' ',header=None)\n",
    "    X=[]\n",
    "    for e in range(len(tag_df)):\n",
    "        x=list(tag_df.loc[e,:])\n",
    "        cls=x.pop(0)\n",
    "        x.insert(len(x),cls)\n",
    "        X.append(x)\n",
    "    return X\n",
    "\n",
    "\n",
    "Train=ConstTrainTest(\"Collections/IONO-Train\")\n",
    "Test=ConstTrainTest(\"Collections/IONO-Test\")\n",
    "\n",
    "\n",
    "Wp,ListErrP=ERM(Train,1000,0.01,mod='p')\n",
    "AbsP=[i+1 for i in range(len(ListErrP))]\n",
    "\n",
    "Wa,ListErrA=ERM(Train,1000,0.01,mod='a')\n",
    "AbsA=[i+1 for i in range(len(ListErrA))]\n",
    "\n",
    "Wr,ListErrR=ERM(Train,1000,0.01,mod='r')\n",
    "AbsR=[i+1 for i in range(len(ListErrR))]\n",
    "\n",
    "\n",
    "plotting(AbsP,ListErrP,'Evolution erreur', 'epoch', 'Train error','Perceptron')\n",
    "plotting(AbsA,ListErrA,'Evolution erreur', 'epoch', 'Train error','Adaline')\n",
    "plotting(AbsR,ListErrR,'Evolution erreur', 'epoch', 'Train error','RL')\n",
    "\n",
    "print('Erreur Test Perceptron=',PerfTest(Test,Wp))\n",
    "print('Erreur Test Adaline=',PerfTest(Test,Wa))\n",
    "print('Erreur Test Regression Logistique=',PerfTest(Test,Wr))\n"
   ]
  },
  {
   "cell_type": "code",
   "execution_count": null,
   "metadata": {},
   "outputs": [],
   "source": []
  },
  {
   "cell_type": "code",
   "execution_count": null,
   "metadata": {},
   "outputs": [],
   "source": []
  }
 ],
 "metadata": {
  "kernelspec": {
   "display_name": "Python 3",
   "language": "python",
   "name": "python3"
  },
  "language_info": {
   "codemirror_mode": {
    "name": "ipython",
    "version": 3
   },
   "file_extension": ".py",
   "mimetype": "text/x-python",
   "name": "python",
   "nbconvert_exporter": "python",
   "pygments_lexer": "ipython3",
   "version": "3.6.5"
  }
 },
 "nbformat": 4,
 "nbformat_minor": 1
}
